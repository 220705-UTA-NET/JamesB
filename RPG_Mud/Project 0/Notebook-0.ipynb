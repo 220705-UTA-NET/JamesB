{
    "metadata": {
        "kernelspec": {
            "name": "SQL",
            "display_name": "SQL",
            "language": "sql"
        },
        "language_info": {
            "name": "sql",
            "version": ""
        }
    },
    "nbformat_minor": 2,
    "nbformat": 4,
    "cells": [
        {
            "cell_type": "code",
            "source": [
                "\r\n",
                "DROP TABLE monsters;\r\n",
                "\r\n",
                "CREATE TABLE monsters (\r\n",
                "    IDkey int,\r\n",
                "    npcName VARCHAR(64),\r\n",
                "    hp int,\r\n",
                "    att int,\r\n",
                "    savMod int,\r\n",
                "    --specAtt1 int,\r\n",
                "    --specAtt2 int,\r\n",
                "    --specAtt3 int,\r\n",
                ")\r\n",
                "\r\n",
                "INSERT INTO monsters(npcName, hp, att, savMod) VALUES\r\n",
                "    ('Goblin', 5, 2, 1),\r\n",
                "    ('Kobold', 8, 2, 2);\r\n",
                "\r\n",
                "SELECT * FROM monsters;\r\n",
                ""
            ],
            "metadata": {
                "azdata_cell_guid": "b97fb1d7-4ba5-4d95-a074-eb36e187dce7",
                "language": "sql"
            },
            "outputs": [],
            "execution_count": null
        }
    ]
}